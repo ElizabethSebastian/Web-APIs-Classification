{
 "cells": [
  {
   "cell_type": "markdown",
   "metadata": {},
   "source": [
    "<img src=\"http://imgur.com/1ZcRyrc.png\" style=\"float: left; margin: 20px; height: 55px\">\n",
    "\n",
    "# Project3 Web APIs & Classification\n",
    "\n",
    "### Part 3 Modelling\n",
    "\n",
    "---"
   ]
  },
  {
   "cell_type": "markdown",
   "metadata": {},
   "source": [
    "## Contents:\n",
    "- [Preprocessing, Modelling & Evaluation](#Preprocessing,-Modelling-&-Evaluation)\n",
    "- [Data Analysis post modelling](#Data-Analysis-post-modelling)\n",
    "- [Conclusions](#Conclusions)\n",
    "- [Limitations and Recommendations](#Limitations-and-Recommendations)"
   ]
  },
  {
   "cell_type": "code",
   "execution_count": 1,
   "metadata": {},
   "outputs": [],
   "source": [
    "#Import libtaries\n",
    "import pandas as pd\n",
    "import numpy as np\n",
    "import seaborn as sns\n",
    "from matplotlib import pyplot as plt\n",
    "%config InlineBackend.figure_format = 'retina'\n",
    "%matplotlib inline\n",
    "\n",
    "import requests\n",
    "import time\n",
    "import random\n",
    "# Import Tokenizer\n",
    "#from nltk.stem import \n",
    "from sklearn.model_selection import train_test_split\n",
    "\n",
    "from sklearn.pipeline import Pipeline\n",
    "from sklearn.model_selection import train_test_split, GridSearchCV\n",
    "from sklearn.linear_model import LogisticRegression\n",
    "from sklearn.feature_extraction.text import CountVectorizer, TfidfVectorizer\n",
    "from sklearn.naive_bayes import MultinomialNB\n",
    "from sklearn.metrics import roc_curve,roc_auc_score, auc, classification_report, accuracy_score, confusion_matrix"
   ]
  },
  {
   "cell_type": "markdown",
   "metadata": {},
   "source": [
    "### Load Data"
   ]
  },
  {
   "cell_type": "code",
   "execution_count": 2,
   "metadata": {
    "scrolled": false
   },
   "outputs": [
    {
     "data": {
      "text/html": [
       "<div>\n",
       "<style scoped>\n",
       "    .dataframe tbody tr th:only-of-type {\n",
       "        vertical-align: middle;\n",
       "    }\n",
       "\n",
       "    .dataframe tbody tr th {\n",
       "        vertical-align: top;\n",
       "    }\n",
       "\n",
       "    .dataframe thead th {\n",
       "        text-align: right;\n",
       "    }\n",
       "</style>\n",
       "<table border=\"1\" class=\"dataframe\">\n",
       "  <thead>\n",
       "    <tr style=\"text-align: right;\">\n",
       "      <th></th>\n",
       "      <th>subreddit</th>\n",
       "      <th>selftext</th>\n",
       "      <th>author_fullname</th>\n",
       "      <th>title</th>\n",
       "      <th>name</th>\n",
       "      <th>author</th>\n",
       "      <th>num_comments</th>\n",
       "      <th>feature_var</th>\n",
       "      <th>text</th>\n",
       "      <th>post_length</th>\n",
       "      <th>target</th>\n",
       "    </tr>\n",
       "  </thead>\n",
       "  <tbody>\n",
       "    <tr>\n",
       "      <th>0</th>\n",
       "      <td>PremierLeague</td>\n",
       "      <td>What's on your mind? This is the daily discuss...</td>\n",
       "      <td>t2_6l4z3</td>\n",
       "      <td>r/PremierLeague Daily Discussion</td>\n",
       "      <td>t3_kw9hc1</td>\n",
       "      <td>AutoModerator</td>\n",
       "      <td>1</td>\n",
       "      <td>r/PremierLeague Daily Discussion What's on you...</td>\n",
       "      <td>r premierleague daily discussion mind daily di...</td>\n",
       "      <td>178</td>\n",
       "      <td>0</td>\n",
       "    </tr>\n",
       "    <tr>\n",
       "      <th>1</th>\n",
       "      <td>PremierLeague</td>\n",
       "      <td>The front of a football jersey is a huge get f...</td>\n",
       "      <td>t2_1c0fq32l</td>\n",
       "      <td>Football shirt sponsors are often relatively s...</td>\n",
       "      <td>t3_kwjtbr</td>\n",
       "      <td>pi_west</td>\n",
       "      <td>105</td>\n",
       "      <td>Football shirt sponsors are often relatively s...</td>\n",
       "      <td>football shirt sponsors often relatively small...</td>\n",
       "      <td>1359</td>\n",
       "      <td>0</td>\n",
       "    </tr>\n",
       "  </tbody>\n",
       "</table>\n",
       "</div>"
      ],
      "text/plain": [
       "       subreddit                                           selftext  \\\n",
       "0  PremierLeague  What's on your mind? This is the daily discuss...   \n",
       "1  PremierLeague  The front of a football jersey is a huge get f...   \n",
       "\n",
       "  author_fullname                                              title  \\\n",
       "0        t2_6l4z3                   r/PremierLeague Daily Discussion   \n",
       "1     t2_1c0fq32l  Football shirt sponsors are often relatively s...   \n",
       "\n",
       "        name         author  num_comments  \\\n",
       "0  t3_kw9hc1  AutoModerator             1   \n",
       "1  t3_kwjtbr        pi_west           105   \n",
       "\n",
       "                                         feature_var  \\\n",
       "0  r/PremierLeague Daily Discussion What's on you...   \n",
       "1  Football shirt sponsors are often relatively s...   \n",
       "\n",
       "                                                text  post_length  target  \n",
       "0  r premierleague daily discussion mind daily di...          178       0  \n",
       "1  football shirt sponsors often relatively small...         1359       0  "
      ]
     },
     "execution_count": 2,
     "metadata": {},
     "output_type": "execute_result"
    }
   ],
   "source": [
    "#Import the DataFrame.\n",
    "combine=pd.read_csv(r'..\\datasets\\combine.csv')\n",
    "combine.head(2)"
   ]
  },
  {
   "cell_type": "code",
   "execution_count": 3,
   "metadata": {
    "scrolled": true
   },
   "outputs": [
    {
     "name": "stdout",
     "output_type": "stream",
     "text": [
      "<class 'pandas.core.frame.DataFrame'>\n",
      "RangeIndex: 1450 entries, 0 to 1449\n",
      "Data columns (total 11 columns):\n",
      " #   Column           Non-Null Count  Dtype \n",
      "---  ------           --------------  ----- \n",
      " 0   subreddit        1450 non-null   object\n",
      " 1   selftext         928 non-null    object\n",
      " 2   author_fullname  1446 non-null   object\n",
      " 3   title            1450 non-null   object\n",
      " 4   name             1450 non-null   object\n",
      " 5   author           1450 non-null   object\n",
      " 6   num_comments     1450 non-null   int64 \n",
      " 7   feature_var      1450 non-null   object\n",
      " 8   text             1450 non-null   object\n",
      " 9   post_length      1450 non-null   int64 \n",
      " 10  target           1450 non-null   int64 \n",
      "dtypes: int64(3), object(8)\n",
      "memory usage: 124.7+ KB\n"
     ]
    }
   ],
   "source": [
    "combine.info()"
   ]
  },
  {
   "cell_type": "markdown",
   "metadata": {},
   "source": [
    "### Preprocessing, Modelling & Evaluation\n",
    "\n",
    "#### Preprocessing\n",
    "    1) Inspect Baseline Score\n",
    "    2) Performed Train-Test-Split   \n",
    "    3) Done EDA on Count Vectorizer and TD-IDF Vectorizer.\n",
    "\n",
    "#### Modeling\n",
    "    1) Worked with 2 classification models - Naive Bayes and Logistic Regression coupled them with Count Vectorizer and TD-IDF Vectorizer\n",
    "    2) Employed Pipeline and Grid Search for all combinations of Vectorizers and Model\n",
    "        - To tune hyperparameters for both vectorizers and models\n",
    "        - Identify best score and best parameters for each of the model combinations\n",
    "        - Fit the train data \n",
    "        - Score both train and test data to see model performance\n",
    "\n",
    "#### Evaluation & Selection\n",
    "    1) Getting back to the problem statement, Accuracy metric is a good metrics as classifying the posts wrongly to a subreddit doesn't have a significant impact to the problem we are addressing. \n",
    "    2) Thus the preliminary basis of model selection is Accuracy metric and TD-IDF with Multinomial Naive Base scored the best for Accuracy on unseen/test data. \n",
    "    3) The variance between training score and test score is also lower for TD-IDF with Naive Base model. \n",
    "    4) However, when Accuracy is used as a metric to evaluate models, the following criteria have to be met. \n",
    "        a) Datasets are symmetric.  \n",
    "        b) The values of false positive and false negatives should be almost the same.\n",
    "\n",
    "Thus the model selected is Multinomial Naive Base with TD-IDF.\n",
    "\n",
    "While the model selection is primarily based on Accuracy scores, confusion matrix and ROC-AUC scores were also examined for each of the model combinations to ensure these scores of the model selected doesn't vary significantly with scores of other models."
   ]
  },
  {
   "cell_type": "markdown",
   "metadata": {},
   "source": [
    "### Baseline Score\n",
    "Dataset is fairly symmetric as shown below."
   ]
  },
  {
   "cell_type": "code",
   "execution_count": 4,
   "metadata": {
    "scrolled": true
   },
   "outputs": [
    {
     "data": {
      "text/html": [
       "<div>\n",
       "<style scoped>\n",
       "    .dataframe tbody tr th:only-of-type {\n",
       "        vertical-align: middle;\n",
       "    }\n",
       "\n",
       "    .dataframe tbody tr th {\n",
       "        vertical-align: top;\n",
       "    }\n",
       "\n",
       "    .dataframe thead th {\n",
       "        text-align: right;\n",
       "    }\n",
       "</style>\n",
       "<table border=\"1\" class=\"dataframe\">\n",
       "  <thead>\n",
       "    <tr style=\"text-align: right;\">\n",
       "      <th></th>\n",
       "      <th>0</th>\n",
       "      <th>1</th>\n",
       "    </tr>\n",
       "  </thead>\n",
       "  <tbody>\n",
       "    <tr>\n",
       "      <th>target</th>\n",
       "      <td>0.527586</td>\n",
       "      <td>0.472414</td>\n",
       "    </tr>\n",
       "  </tbody>\n",
       "</table>\n",
       "</div>"
      ],
      "text/plain": [
       "               0         1\n",
       "target  0.527586  0.472414"
      ]
     },
     "execution_count": 4,
     "metadata": {},
     "output_type": "execute_result"
    }
   ],
   "source": [
    "#Display baseline score.\n",
    "combine.target.value_counts(normalize=True).to_frame().T"
   ]
  },
  {
   "cell_type": "code",
   "execution_count": 5,
   "metadata": {},
   "outputs": [],
   "source": [
    "X = combine.text\n",
    "y = combine.target"
   ]
  },
  {
   "cell_type": "code",
   "execution_count": 6,
   "metadata": {},
   "outputs": [],
   "source": [
    "#Create X and y for modelling\n",
    "X = combine.text\n",
    "y = combine.target"
   ]
  },
  {
   "cell_type": "code",
   "execution_count": 7,
   "metadata": {},
   "outputs": [],
   "source": [
    "# create training and testing vars\n",
    "X_train, X_test, y_train, y_test = train_test_split(X, y, \n",
    "                                                    test_size=0.2,\n",
    "                                                    random_state=42)"
   ]
  },
  {
   "cell_type": "markdown",
   "metadata": {},
   "source": [
    "### Logistic regression"
   ]
  },
  {
   "cell_type": "markdown",
   "metadata": {},
   "source": [
    "#### Count Vectorizer"
   ]
  },
  {
   "cell_type": "markdown",
   "metadata": {},
   "source": [
    "Start by instantiating a naive cvec first and fit the data to get a sense of it, before tuning the hyperparameters via GridSearchCV"
   ]
  },
  {
   "cell_type": "code",
   "execution_count": 8,
   "metadata": {},
   "outputs": [],
   "source": [
    "#instantiating a naive cvec \n",
    "cvec_naive = CountVectorizer()\n",
    "X_train_cvec_naive = cvec_naive.fit_transform(X_train).todense()\n",
    "X_train_cvec_naive_df = pd.DataFrame(X_train_cvec_naive, columns = cvec_naive.get_feature_names())"
   ]
  },
  {
   "cell_type": "code",
   "execution_count": 9,
   "metadata": {},
   "outputs": [
    {
     "data": {
      "text/plain": [
       "(1160, 7344)"
      ]
     },
     "execution_count": 9,
     "metadata": {},
     "output_type": "execute_result"
    }
   ],
   "source": [
    "X_train_cvec_naive_df.shape"
   ]
  },
  {
   "cell_type": "code",
   "execution_count": 10,
   "metadata": {},
   "outputs": [
    {
     "name": "stderr",
     "output_type": "stream",
     "text": [
      "C:\\Users\\fast6\\anaconda3\\lib\\site-packages\\sklearn\\utils\\deprecation.py:143: FutureWarning: The sklearn.feature_extraction.stop_words module is  deprecated in version 0.22 and will be removed in version 0.24. The corresponding classes / functions should instead be imported from sklearn.feature_extraction.text. Anything that cannot be imported from sklearn.feature_extraction.text is now part of the private API.\n",
      "  warnings.warn(message, FutureWarning)\n"
     ]
    }
   ],
   "source": [
    "# instantiate another cvec but with English stop_words\n",
    "\n",
    "from sklearn.feature_extraction import stop_words"
   ]
  },
  {
   "cell_type": "code",
   "execution_count": 11,
   "metadata": {},
   "outputs": [],
   "source": [
    "cvec_stop = CountVectorizer(stop_words = 'english')"
   ]
  },
  {
   "cell_type": "code",
   "execution_count": 12,
   "metadata": {},
   "outputs": [
    {
     "data": {
      "text/plain": [
       "(1160, 7192)"
      ]
     },
     "execution_count": 12,
     "metadata": {},
     "output_type": "execute_result"
    }
   ],
   "source": [
    "X_train_cvec_stop = cvec_stop.fit_transform(X_train).todense()\n",
    "X_train_cvec_stop_df = pd.DataFrame(X_train_cvec_stop, columns = cvec_stop.get_feature_names())\n",
    "X_train_cvec_stop_df.shape"
   ]
  },
  {
   "cell_type": "code",
   "execution_count": 13,
   "metadata": {},
   "outputs": [
    {
     "data": {
      "text/plain": [
       "152"
      ]
     },
     "execution_count": 13,
     "metadata": {},
     "output_type": "execute_result"
    }
   ],
   "source": [
    "X_train_cvec_naive_df.shape[1] - X_train_cvec_stop_df.shape[1]"
   ]
  },
  {
   "cell_type": "markdown",
   "metadata": {},
   "source": [
    "Inclusion of English stopwords eliminated a further 157 features."
   ]
  },
  {
   "cell_type": "code",
   "execution_count": 14,
   "metadata": {},
   "outputs": [
    {
     "data": {
      "text/plain": [
       "team      414.0\n",
       "season    377.0\n",
       "game      374.0\n",
       "nba       371.0\n",
       "league    362.0\n",
       "          ...  \n",
       "loyal       1.0\n",
       "lowley      1.0\n",
       "lowe        1.0\n",
       "lovers      1.0\n",
       "aa          1.0\n",
       "Name: Total, Length: 7192, dtype: float64"
      ]
     },
     "execution_count": 14,
     "metadata": {},
     "output_type": "execute_result"
    }
   ],
   "source": [
    "# find out how many times each word appear in the corpus by creating a 'Total' row at the end of the dataframe:\n",
    "X_train_cvec_stop_df.loc['Total',:]= X_train_cvec_stop_df.sum(axis=0)\n",
    "X_train_cvec_stop_df.loc['Total',:].sort_values(ascending=False)"
   ]
  },
  {
   "cell_type": "code",
   "execution_count": 15,
   "metadata": {},
   "outputs": [
    {
     "data": {
      "text/html": [
       "<div>\n",
       "<style scoped>\n",
       "    .dataframe tbody tr th:only-of-type {\n",
       "        vertical-align: middle;\n",
       "    }\n",
       "\n",
       "    .dataframe tbody tr th {\n",
       "        vertical-align: top;\n",
       "    }\n",
       "\n",
       "    .dataframe thead th {\n",
       "        text-align: right;\n",
       "    }\n",
       "</style>\n",
       "<table border=\"1\" class=\"dataframe\">\n",
       "  <thead>\n",
       "    <tr style=\"text-align: right;\">\n",
       "      <th></th>\n",
       "      <th>Total</th>\n",
       "    </tr>\n",
       "  </thead>\n",
       "  <tbody>\n",
       "    <tr>\n",
       "      <th>team</th>\n",
       "      <td>414.0</td>\n",
       "    </tr>\n",
       "    <tr>\n",
       "      <th>season</th>\n",
       "      <td>377.0</td>\n",
       "    </tr>\n",
       "    <tr>\n",
       "      <th>game</th>\n",
       "      <td>374.0</td>\n",
       "    </tr>\n",
       "    <tr>\n",
       "      <th>nba</th>\n",
       "      <td>371.0</td>\n",
       "    </tr>\n",
       "    <tr>\n",
       "      <th>league</th>\n",
       "      <td>362.0</td>\n",
       "    </tr>\n",
       "    <tr>\n",
       "      <th>harden</th>\n",
       "      <td>289.0</td>\n",
       "    </tr>\n",
       "    <tr>\n",
       "      <th>players</th>\n",
       "      <td>274.0</td>\n",
       "    </tr>\n",
       "    <tr>\n",
       "      <th>think</th>\n",
       "      <td>271.0</td>\n",
       "    </tr>\n",
       "    <tr>\n",
       "      <th>games</th>\n",
       "      <td>260.0</td>\n",
       "    </tr>\n",
       "    <tr>\n",
       "      <th>like</th>\n",
       "      <td>254.0</td>\n",
       "    </tr>\n",
       "    <tr>\n",
       "      <th>player</th>\n",
       "      <td>252.0</td>\n",
       "    </tr>\n",
       "    <tr>\n",
       "      <th>best</th>\n",
       "      <td>188.0</td>\n",
       "    </tr>\n",
       "    <tr>\n",
       "      <th>nets</th>\n",
       "      <td>181.0</td>\n",
       "    </tr>\n",
       "    <tr>\n",
       "      <th>kyrie</th>\n",
       "      <td>181.0</td>\n",
       "    </tr>\n",
       "    <tr>\n",
       "      <th>points</th>\n",
       "      <td>167.0</td>\n",
       "    </tr>\n",
       "    <tr>\n",
       "      <th>teams</th>\n",
       "      <td>162.0</td>\n",
       "    </tr>\n",
       "    <tr>\n",
       "      <th>premier</th>\n",
       "      <td>154.0</td>\n",
       "    </tr>\n",
       "    <tr>\n",
       "      <th>time</th>\n",
       "      <td>149.0</td>\n",
       "    </tr>\n",
       "    <tr>\n",
       "      <th>play</th>\n",
       "      <td>145.0</td>\n",
       "    </tr>\n",
       "    <tr>\n",
       "      <th>reddit</th>\n",
       "      <td>139.0</td>\n",
       "    </tr>\n",
       "  </tbody>\n",
       "</table>\n",
       "</div>"
      ],
      "text/plain": [
       "         Total\n",
       "team     414.0\n",
       "season   377.0\n",
       "game     374.0\n",
       "nba      371.0\n",
       "league   362.0\n",
       "harden   289.0\n",
       "players  274.0\n",
       "think    271.0\n",
       "games    260.0\n",
       "like     254.0\n",
       "player   252.0\n",
       "best     188.0\n",
       "nets     181.0\n",
       "kyrie    181.0\n",
       "points   167.0\n",
       "teams    162.0\n",
       "premier  154.0\n",
       "time     149.0\n",
       "play     145.0\n",
       "reddit   139.0"
      ]
     },
     "execution_count": 15,
     "metadata": {},
     "output_type": "execute_result"
    }
   ],
   "source": [
    "#Sort values in the dataframe\n",
    "Xtrain_total_CVEC_stop = pd.DataFrame(X_train_cvec_stop_df.loc['Total',:].sort_values(ascending=False))\n",
    "Xtrain_total_CVEC_stop.head(20)"
   ]
  },
  {
   "cell_type": "code",
   "execution_count": 16,
   "metadata": {},
   "outputs": [
    {
     "data": {
      "image/png": "[encoded data removed]",
      "text/plain": [
       "<Figure size 432x288 with 1 Axes>"
      ]
     },
     "metadata": {
      "image/png": {
       "height": 275,
       "width": 375
      },
      "needs_background": "light"
     },
     "output_type": "display_data"
    }
   ],
   "source": [
    "#Plot the top words that appear more than 400 times.\n",
    "Xtrain_total_CVEC_stop[Xtrain_total_CVEC_stop.Total > 200].plot(kind='bar');"
   ]
  },
  {
   "cell_type": "code",
   "execution_count": 17,
   "metadata": {
    "scrolled": true
   },
   "outputs": [
    {
     "data": {
      "text/plain": [
       "1"
      ]
     },
     "execution_count": 17,
     "metadata": {},
     "output_type": "execute_result"
    }
   ],
   "source": [
    "len(Xtrain_total_CVEC_stop[Xtrain_total_CVEC_stop.Total > 400])"
   ]
  },
  {
   "cell_type": "markdown",
   "metadata": {},
   "source": [
    "#### Tune CVEC hyperparameters"
   ]
  },
  {
   "cell_type": "code",
   "execution_count": 18,
   "metadata": {},
   "outputs": [],
   "source": [
    "#Create pipeline\n",
    "pipe1 = Pipeline([\n",
    "    (\"cvec\", CountVectorizer(stop_words = 'english')),\n",
    "    (\"lr\", LogisticRegression())\n",
    "    ])"
   ]
  },
  {
   "cell_type": "code",
   "execution_count": 19,
   "metadata": {},
   "outputs": [
    {
     "data": {
      "text/plain": [
       "GridSearchCV(cv=5,\n",
       "             estimator=Pipeline(steps=[('cvec',\n",
       "                                        CountVectorizer(stop_words='english')),\n",
       "                                       ('lr', LogisticRegression())]),\n",
       "             n_jobs=-1,\n",
       "             param_grid={'cvec__max_df': [0.2, 0.25, 0.3],\n",
       "                         'cvec__max_features': [20, 30, 50],\n",
       "                         'cvec__min_df': [2, 3]})"
      ]
     },
     "execution_count": 19,
     "metadata": {},
     "output_type": "execute_result"
    }
   ],
   "source": [
    "#Tune Params for GridSearch\n",
    "pipe_params = {\n",
    "    'cvec__max_features': [20, 30, 50],\n",
    "    'cvec__min_df': [2, 3],\n",
    "    'cvec__max_df': [.2, .25, .3],\n",
    "}\n",
    "gs_lrcv = GridSearchCV(pipe1, param_grid=pipe_params, cv=5, n_jobs = -1)\n",
    "gs_lrcv.fit(X_train, y_train)"
   ]
  },
  {
   "cell_type": "code",
   "execution_count": 20,
   "metadata": {},
   "outputs": [
    {
     "name": "stdout",
     "output_type": "stream",
     "text": [
      "0.8413793103448276\n"
     ]
    },
    {
     "data": {
      "text/plain": [
       "{'cvec__max_df': 0.2, 'cvec__max_features': 50, 'cvec__min_df': 2}"
      ]
     },
     "execution_count": 20,
     "metadata": {},
     "output_type": "execute_result"
    }
   ],
   "source": [
    "print(gs_lrcv.best_score_)\n",
    "gs_lrcv.best_params_"
   ]
  },
  {
   "cell_type": "code",
   "execution_count": 21,
   "metadata": {},
   "outputs": [
    {
     "data": {
      "text/plain": [
       "0.878448275862069"
      ]
     },
     "execution_count": 21,
     "metadata": {},
     "output_type": "execute_result"
    }
   ],
   "source": [
    "#Score on Train set\n",
    "gs_lrcv.score(X_train, y_train)"
   ]
  },
  {
   "cell_type": "code",
   "execution_count": 22,
   "metadata": {
    "scrolled": true
   },
   "outputs": [
    {
     "data": {
      "text/plain": [
       "0.8482758620689655"
      ]
     },
     "execution_count": 22,
     "metadata": {},
     "output_type": "execute_result"
    }
   ],
   "source": [
    "#Score on test set\n",
    "gs_lrcv.score(X_test, y_test)"
   ]
  },
  {
   "cell_type": "markdown",
   "metadata": {},
   "source": [
    "**CVEC with best parameters tuned using Grid Search**"
   ]
  },
  {
   "cell_type": "code",
   "execution_count": 23,
   "metadata": {},
   "outputs": [
    {
     "data": {
      "text/plain": [
       "GridSearchCV(cv=5,\n",
       "             estimator=Pipeline(steps=[('cvec',\n",
       "                                        CountVectorizer(stop_words='english')),\n",
       "                                       ('lr', LogisticRegression())]),\n",
       "             n_jobs=-1,\n",
       "             param_grid={'cvec__max_df': [0.22, 0.23, 0.24],\n",
       "                         'cvec__max_features': [240, 280, 320],\n",
       "                         'cvec__min_df': [1, 2, 3]})"
      ]
     },
     "execution_count": 23,
     "metadata": {},
     "output_type": "execute_result"
    }
   ],
   "source": [
    "pipe_params = {\n",
    "    'cvec__max_features': [240, 280, 320],\n",
    "    'cvec__min_df': [1, 2, 3],\n",
    "    'cvec__max_df': [.22, .23, 0.24],\n",
    "}\n",
    "gs_lrcv = GridSearchCV(pipe1, param_grid=pipe_params, cv=5, n_jobs = -1)\n",
    "gs_lrcv.fit(X_train, y_train)"
   ]
  },
  {
   "cell_type": "code",
   "execution_count": 24,
   "metadata": {},
   "outputs": [
    {
     "name": "stdout",
     "output_type": "stream",
     "text": [
      "0.9482758620689655\n"
     ]
    },
    {
     "data": {
      "text/plain": [
       "{'cvec__max_df': 0.22, 'cvec__max_features': 320, 'cvec__min_df': 1}"
      ]
     },
     "execution_count": 24,
     "metadata": {},
     "output_type": "execute_result"
    }
   ],
   "source": [
    "print(gs_lrcv.best_score_)\n",
    "gs_lrcv.best_params_"
   ]
  },
  {
   "cell_type": "code",
   "execution_count": 25,
   "metadata": {},
   "outputs": [
    {
     "name": "stdout",
     "output_type": "stream",
     "text": [
      "0.9896551724137931\n",
      "0.9586206896551724\n"
     ]
    }
   ],
   "source": [
    "#Score on train and test set after using best parameters.\n",
    "print(gs_lrcv.score(X_train, y_train))\n",
    "print(gs_lrcv.score(X_test, y_test))"
   ]
  },
  {
   "cell_type": "markdown",
   "metadata": {},
   "source": [
    "Score has improved and parameters seems to be rather optimized."
   ]
  },
  {
   "cell_type": "markdown",
   "metadata": {},
   "source": [
    "#### TF_IDF Vectorizer"
   ]
  },
  {
   "cell_type": "markdown",
   "metadata": {},
   "source": [
    "Start by instantiating a naive TD-IDF first and fit the data to get a sense of it, before tuning the hyperparameters via GridSearchCV"
   ]
  },
  {
   "cell_type": "code",
   "execution_count": 26,
   "metadata": {},
   "outputs": [],
   "source": [
    "tvec_naive=TfidfVectorizer(stop_words='english')"
   ]
  },
  {
   "cell_type": "code",
   "execution_count": 27,
   "metadata": {},
   "outputs": [
    {
     "data": {
      "text/plain": [
       "(1160, 7192)"
      ]
     },
     "execution_count": 27,
     "metadata": {},
     "output_type": "execute_result"
    }
   ],
   "source": [
    "X_train_tvec_naive = tvec_naive.fit_transform(X_train).todense()\n",
    "X_train_tvec_naive_df=pd.DataFrame(X_train_tvec_naive,columns=tvec_naive.get_feature_names())\n",
    "X_train_tvec_naive_df.shape\n"
   ]
  },
  {
   "cell_type": "code",
   "execution_count": 28,
   "metadata": {},
   "outputs": [
    {
     "data": {
      "text/plain": [
       "league        29.122285\n",
       "season        27.004361\n",
       "poll          24.777305\n",
       "team          24.380852\n",
       "harden        24.103411\n",
       "                ...    \n",
       "carries        0.012314\n",
       "scoreboard     0.012314\n",
       "sealed         0.012314\n",
       "security       0.012314\n",
       "powerful       0.012314\n",
       "Name: Total, Length: 7192, dtype: float64"
      ]
     },
     "execution_count": 28,
     "metadata": {},
     "output_type": "execute_result"
    }
   ],
   "source": [
    "X_train_tvec_naive_df.loc['Total',:]= X_train_tvec_naive_df.sum(axis=0)\n",
    "X_train_tvec_naive_df.loc['Total',:].sort_values(ascending=False)"
   ]
  },
  {
   "cell_type": "code",
   "execution_count": 29,
   "metadata": {},
   "outputs": [
    {
     "data": {
      "text/html": [
       "<div>\n",
       "<style scoped>\n",
       "    .dataframe tbody tr th:only-of-type {\n",
       "        vertical-align: middle;\n",
       "    }\n",
       "\n",
       "    .dataframe tbody tr th {\n",
       "        vertical-align: top;\n",
       "    }\n",
       "\n",
       "    .dataframe thead th {\n",
       "        text-align: right;\n",
       "    }\n",
       "</style>\n",
       "<table border=\"1\" class=\"dataframe\">\n",
       "  <thead>\n",
       "    <tr style=\"text-align: right;\">\n",
       "      <th></th>\n",
       "      <th>Total</th>\n",
       "    </tr>\n",
       "  </thead>\n",
       "  <tbody>\n",
       "    <tr>\n",
       "      <th>league</th>\n",
       "      <td>29.122285</td>\n",
       "    </tr>\n",
       "    <tr>\n",
       "      <th>season</th>\n",
       "      <td>27.004361</td>\n",
       "    </tr>\n",
       "    <tr>\n",
       "      <th>poll</th>\n",
       "      <td>24.777305</td>\n",
       "    </tr>\n",
       "    <tr>\n",
       "      <th>team</th>\n",
       "      <td>24.380852</td>\n",
       "    </tr>\n",
       "    <tr>\n",
       "      <th>harden</th>\n",
       "      <td>24.103411</td>\n",
       "    </tr>\n",
       "  </tbody>\n",
       "</table>\n",
       "</div>"
      ],
      "text/plain": [
       "            Total\n",
       "league  29.122285\n",
       "season  27.004361\n",
       "poll    24.777305\n",
       "team    24.380852\n",
       "harden  24.103411"
      ]
     },
     "execution_count": 29,
     "metadata": {},
     "output_type": "execute_result"
    }
   ],
   "source": [
    "Xtrain_total_TVEC_naive = pd.DataFrame(X_train_tvec_naive_df.loc['Total',:].sort_values(ascending=False))\n",
    "Xtrain_total_TVEC_naive.head()"
   ]
  },
  {
   "cell_type": "code",
   "execution_count": 30,
   "metadata": {},
   "outputs": [
    {
     "data": {
      "text/plain": [
       "<matplotlib.axes._subplots.AxesSubplot at 0x27eda12b460>"
      ]
     },
     "execution_count": 30,
     "metadata": {},
     "output_type": "execute_result"
    },
    {
     "data": {
      "image/png": "[encoded data removed]",
      "text/plain": [
       "<Figure size 432x288 with 1 Axes>"
      ]
     },
     "metadata": {
      "image/png": {
       "height": 278,
       "width": 368
      },
      "needs_background": "light"
     },
     "output_type": "display_data"
    }
   ],
   "source": [
    "Xtrain_total_TVEC_naive[Xtrain_total_TVEC_naive.Total > 15].plot(kind='bar')"
   ]
  },
  {
   "cell_type": "code",
   "execution_count": 31,
   "metadata": {
    "scrolled": true
   },
   "outputs": [
    {
     "data": {
      "text/plain": [
       "17"
      ]
     },
     "execution_count": 31,
     "metadata": {},
     "output_type": "execute_result"
    }
   ],
   "source": [
    "len(Xtrain_total_TVEC_naive[Xtrain_total_TVEC_naive.Total > 15])"
   ]
  },
  {
   "cell_type": "markdown",
   "metadata": {},
   "source": [
    "Using these information, I will run GridSearchCV and tune the hyperparameters accordingly to optimize the model."
   ]
  },
  {
   "cell_type": "code",
   "execution_count": 32,
   "metadata": {},
   "outputs": [
    {
     "data": {
      "text/plain": [
       "GridSearchCV(cv=5,\n",
       "             estimator=Pipeline(steps=[('tvec',\n",
       "                                        TfidfVectorizer(stop_words='english')),\n",
       "                                       ('lr', LogisticRegression())]),\n",
       "             n_jobs=-1,\n",
       "             param_grid={'tvec__max_df': [0.2, 0.25, 0.3],\n",
       "                         'tvec__max_features': [30, 60, 90],\n",
       "                         'tvec__min_df': [2, 3]})"
      ]
     },
     "execution_count": 32,
     "metadata": {},
     "output_type": "execute_result"
    }
   ],
   "source": [
    "pipe2 = Pipeline([\n",
    "    (\"tvec\", TfidfVectorizer(stop_words = 'english')),\n",
    "    (\"lr\", LogisticRegression())\n",
    "    ])\n",
    "\n",
    "pipe_params = {\n",
    "    'tvec__max_features': [30, 60, 90],\n",
    "    'tvec__min_df': [2, 3],\n",
    "    'tvec__max_df': [.2, .25, .3],\n",
    "}\n",
    "gs_lrtv = GridSearchCV(pipe2, param_grid=pipe_params, cv=5, n_jobs = -1)\n",
    "gs_lrtv.fit(X_train, y_train)"
   ]
  },
  {
   "cell_type": "code",
   "execution_count": 33,
   "metadata": {
    "scrolled": true
   },
   "outputs": [
    {
     "name": "stdout",
     "output_type": "stream",
     "text": [
      "0.8637931034482758\n"
     ]
    },
    {
     "data": {
      "text/plain": [
       "{'tvec__max_df': 0.2, 'tvec__max_features': 90, 'tvec__min_df': 3}"
      ]
     },
     "execution_count": 33,
     "metadata": {},
     "output_type": "execute_result"
    }
   ],
   "source": [
    "print(gs_lrtv.best_score_)\n",
    "gs_lrtv.best_params_"
   ]
  },
  {
   "cell_type": "markdown",
   "metadata": {},
   "source": [
    "Further tune hyperparamters to achieve a better score"
   ]
  },
  {
   "cell_type": "code",
   "execution_count": 34,
   "metadata": {},
   "outputs": [
    {
     "data": {
      "text/plain": [
       "GridSearchCV(cv=5,\n",
       "             estimator=Pipeline(steps=[('tvec',\n",
       "                                        TfidfVectorizer(stop_words='english')),\n",
       "                                       ('lr', LogisticRegression())]),\n",
       "             n_jobs=-1,\n",
       "             param_grid={'tvec__max_df': [0.2, 0.3, 0.4],\n",
       "                         'tvec__max_features': [180, 230, 270],\n",
       "                         'tvec__min_df': [2, 3, 4]})"
      ]
     },
     "execution_count": 34,
     "metadata": {},
     "output_type": "execute_result"
    }
   ],
   "source": [
    "#further tuning to get better score\n",
    "pipe_params= {\n",
    "    'tvec__max_features': [180,230, 270],\n",
    "    'tvec__min_df': [2, 3, 4],\n",
    "    'tvec__max_df': [0.2, 0.3, 0.4]\n",
    "}\n",
    "gs_lrtv=GridSearchCV(pipe2,param_grid=pipe_params, cv=5, n_jobs = -1)\n",
    "gs_lrtv.fit(X_train, y_train)"
   ]
  },
  {
   "cell_type": "code",
   "execution_count": 35,
   "metadata": {},
   "outputs": [
    {
     "name": "stdout",
     "output_type": "stream",
     "text": [
      "0.9543103448275861\n"
     ]
    },
    {
     "data": {
      "text/plain": [
       "{'tvec__max_df': 0.2, 'tvec__max_features': 270, 'tvec__min_df': 3}"
      ]
     },
     "execution_count": 35,
     "metadata": {},
     "output_type": "execute_result"
    }
   ],
   "source": [
    "print(gs_lrtv.best_score_)\n",
    "gs_lrtv.best_params_"
   ]
  },
  {
   "cell_type": "code",
   "execution_count": 36,
   "metadata": {},
   "outputs": [
    {
     "name": "stdout",
     "output_type": "stream",
     "text": [
      "0.9844827586206897\n",
      "0.9655172413793104\n"
     ]
    }
   ],
   "source": [
    "print(gs_lrtv.score(X_train,y_train))\n",
    "print(gs_lrtv.score(X_test,y_test))"
   ]
  },
  {
   "cell_type": "markdown",
   "metadata": {},
   "source": [
    "**Logistic Regression Scores Comparison with CVEC & TD-IDF**\n",
    "\n",
    "|Scores|Lr+CVEC|Lr+TDIDF\n",
    "|---|---|---\n",
    "|Train score|0.989|0.984\n",
    "|Test score|0.958|0.966\n",
    "|Variance|-0.031|-0.018"
   ]
  },
  {
   "cell_type": "markdown",
   "metadata": {},
   "source": [
    "### Multinomial Naive Bayes Model"
   ]
  },
  {
   "cell_type": "markdown",
   "metadata": {},
   "source": [
    "#### Naive Bayes with Count Vectorizer"
   ]
  },
  {
   "cell_type": "code",
   "execution_count": 37,
   "metadata": {},
   "outputs": [
    {
     "name": "stdout",
     "output_type": "stream",
     "text": [
      "Fitting 3 folds for each of 144 candidates, totalling 432 fits\n"
     ]
    },
    {
     "name": "stderr",
     "output_type": "stream",
     "text": [
      "[Parallel(n_jobs=-1)]: Using backend LokyBackend with 4 concurrent workers.\n",
      "[Parallel(n_jobs=-1)]: Done  42 tasks      | elapsed:    2.8s\n",
      "[Parallel(n_jobs=-1)]: Done 192 tasks      | elapsed:   13.7s\n",
      "[Parallel(n_jobs=-1)]: Done 432 out of 432 | elapsed:   31.4s finished\n"
     ]
    },
    {
     "data": {
      "text/plain": [
       "GridSearchCV(cv=3,\n",
       "             estimator=Pipeline(steps=[('cvecn', CountVectorizer()),\n",
       "                                       ('nb', MultinomialNB())]),\n",
       "             n_jobs=-1,\n",
       "             param_grid={'cvecn__max_df': [0.2, 0.25, 0.5, 0.8],\n",
       "                         'cvecn__max_features': [1000, 1500, 2000],\n",
       "                         'cvecn__min_df': [2, 3, 4],\n",
       "                         'cvecn__ngram_range': [(1, 1), (1, 2)],\n",
       "                         'cvecn__stop_words': [None, 'english']},\n",
       "             verbose=1)"
      ]
     },
     "execution_count": 37,
     "metadata": {},
     "output_type": "execute_result"
    }
   ],
   "source": [
    "pipe3 = Pipeline([\n",
    "    (\"cvecn\", CountVectorizer()),\n",
    "    (\"nb\", MultinomialNB())\n",
    "    ])\n",
    "\n",
    "params = {\n",
    "    'cvecn__stop_words': [None, 'english'],\n",
    "    'cvecn__max_features': [1000, 1500, 2000],\n",
    "    'cvecn__min_df': [2, 3, 4],\n",
    "    'cvecn__max_df': [.2, .25, .5, .8],\n",
    "    'cvecn__ngram_range': [(1,1),(1,2)],\n",
    "}\n",
    "gs_cvnb = GridSearchCV(pipe3, param_grid=params, cv=3, n_jobs = -1, verbose = 1)\n",
    "gs_cvnb.fit(X_train, y_train)"
   ]
  },
  {
   "cell_type": "code",
   "execution_count": 38,
   "metadata": {},
   "outputs": [
    {
     "name": "stdout",
     "output_type": "stream",
     "text": [
      "best score: 0.982760082651636\n"
     ]
    }
   ],
   "source": [
    "print('best score:', gs_cvnb.best_score_)"
   ]
  },
  {
   "cell_type": "code",
   "execution_count": 39,
   "metadata": {},
   "outputs": [
    {
     "name": "stdout",
     "output_type": "stream",
     "text": [
      "best params: {'cvecn__max_df': 0.2, 'cvecn__max_features': 2000, 'cvecn__min_df': 3, 'cvecn__ngram_range': (1, 1), 'cvecn__stop_words': 'english'}\n"
     ]
    }
   ],
   "source": [
    "print('best params:', gs_cvnb.best_params_)"
   ]
  },
  {
   "cell_type": "code",
   "execution_count": 40,
   "metadata": {},
   "outputs": [
    {
     "name": "stdout",
     "output_type": "stream",
     "text": [
      "Training score:  0.993103448275862\n",
      "Testing score:  0.9758620689655172\n"
     ]
    }
   ],
   "source": [
    "print('Training score: ',gs_cvnb.score(X_train, y_train))\n",
    "print('Testing score: ',gs_cvnb.score(X_test, y_test))"
   ]
  },
  {
   "cell_type": "markdown",
   "metadata": {},
   "source": [
    "####  Naive Bayes with TD-IDF Vectorizer"
   ]
  },
  {
   "cell_type": "code",
   "execution_count": 41,
   "metadata": {},
   "outputs": [
    {
     "name": "stdout",
     "output_type": "stream",
     "text": [
      "Fitting 3 folds for each of 36 candidates, totalling 108 fits\n"
     ]
    },
    {
     "name": "stderr",
     "output_type": "stream",
     "text": [
      "[Parallel(n_jobs=-1)]: Using backend LokyBackend with 4 concurrent workers.\n",
      "[Parallel(n_jobs=-1)]: Done  76 tasks      | elapsed:    6.3s\n",
      "[Parallel(n_jobs=-1)]: Done 108 out of 108 | elapsed:    9.2s finished\n"
     ]
    },
    {
     "data": {
      "text/plain": [
       "GridSearchCV(cv=3,\n",
       "             estimator=Pipeline(steps=[('tvecn',\n",
       "                                        TfidfVectorizer(stop_words='english')),\n",
       "                                       ('nb', MultinomialNB())]),\n",
       "             n_jobs=-1,\n",
       "             param_grid={'tvecn__max_df': [0.2, 0.25, 0.3],\n",
       "                         'tvecn__max_features': [1500, 2000, 2500],\n",
       "                         'tvecn__min_df': [2, 3],\n",
       "                         'tvecn__ngram_range': [(1, 1), (1, 2)]},\n",
       "             verbose=1)"
      ]
     },
     "execution_count": 41,
     "metadata": {},
     "output_type": "execute_result"
    }
   ],
   "source": [
    "pipe4 = Pipeline([\n",
    "    (\"tvecn\", TfidfVectorizer(stop_words = 'english')),\n",
    "    (\"nb\", MultinomialNB())\n",
    "    ])\n",
    "\n",
    "pipe_params = {\n",
    "    'tvecn__max_features': [1500,2000, 2500], \n",
    "    'tvecn__min_df': [2, 3],\n",
    "    'tvecn__max_df': [.2, .25, .3],\n",
    "    'tvecn__ngram_range': [(1,1),(1,2)]\n",
    "}\n",
    "gs_tdnb = GridSearchCV(pipe4, param_grid=pipe_params, cv=3, n_jobs = -1, verbose = 1)\n",
    "gs_tdnb.fit(X_train, y_train)"
   ]
  },
  {
   "cell_type": "code",
   "execution_count": 42,
   "metadata": {},
   "outputs": [
    {
     "name": "stdout",
     "output_type": "stream",
     "text": [
      "0.9793103140494392\n"
     ]
    },
    {
     "data": {
      "text/plain": [
       "{'tvecn__max_df': 0.2,\n",
       " 'tvecn__max_features': 2500,\n",
       " 'tvecn__min_df': 2,\n",
       " 'tvecn__ngram_range': (1, 1)}"
      ]
     },
     "execution_count": 42,
     "metadata": {},
     "output_type": "execute_result"
    }
   ],
   "source": [
    "print(gs_tdnb.best_score_)\n",
    "gs_tdnb.best_params_"
   ]
  },
  {
   "cell_type": "code",
   "execution_count": 43,
   "metadata": {
    "scrolled": true
   },
   "outputs": [
    {
     "name": "stdout",
     "output_type": "stream",
     "text": [
      "Training score:  0.996551724137931\n",
      "Testing score:  0.9724137931034482\n"
     ]
    }
   ],
   "source": [
    "print('Training score: ',gs_tdnb.score(X_train, y_train))\n",
    "print('Testing score: ',gs_tdnb.score(X_test, y_test))"
   ]
  },
  {
   "cell_type": "markdown",
   "metadata": {},
   "source": [
    "**Multinomial Naive Bayes Scores Comparison with CVEC & TD-IDF**<br>"
   ]
  },
  {
   "cell_type": "markdown",
   "metadata": {},
   "source": [
    "\n",
    "|Scores|CVEC + MultiNB|TDIDF + MultiNB\n",
    "|---|---|---\n",
    "|Train score|0.993|0.996\n",
    "|Test score|0.970|0.972\n",
    "|Variance|-0.023|-0.024"
   ]
  },
  {
   "cell_type": "markdown",
   "metadata": {},
   "source": [
    "**Overall Comparison of Models**"
   ]
  },
  {
   "cell_type": "markdown",
   "metadata": {},
   "source": [
    "|Model|Train Score|Test Score|Model\n",
    "|---|---|---|---\n",
    "|Lr+CVEC|0.989|0.958|-0.031\n",
    "|Lr+TDIDF|0.984|0.966|-0.018\n",
    "|CVEC+MultiNB|0.993|0.970|-0.023\n",
    "|TDIDF+MultiNB|0.996|0.972|-0.024"
   ]
  },
  {
   "cell_type": "markdown",
   "metadata": {},
   "source": [
    "**Selected Model : Multinomial Naive Bayes with TD-IDF**"
   ]
  },
  {
   "cell_type": "markdown",
   "metadata": {},
   "source": [
    "Based on the problem statement, the objective of the project is to classify accurately the subreddit a given post belongs to. The model then helps advertisers market their products and services applicable to the 2 subreddit members based on the nature of the posts within these subreddits.\n",
    "In this scenario, accuracy remains a good measure as the false predictions do not play a significant part in determining the above. However, it is known that accuracy is a good measure when the following criteria is met:\n",
    "\n",
    "    1) Datasets are symmetric. In this case, the 2 datasets are symmetric as was indicated above. \n",
    "    2) The values of false positive and false negatives are almost same. This can be seen from the below \n",
    "    set of confusion matices.\n",
    "\n",
    "Thus the model chosen is Multinomial Naive Bayes with TD-IDF because of it's:\n",
    "\n",
    "    1) Accuracy score on test / unseen data\n",
    "    2) The false predictions (both positive and negative) are almost the same"
   ]
  },
  {
   "cell_type": "markdown",
   "metadata": {},
   "source": [
    "#### Confusion matrix"
   ]
  },
  {
   "cell_type": "code",
   "execution_count": 44,
   "metadata": {},
   "outputs": [],
   "source": [
    "#Function to calculate accuracy, classification report, confusion matrix\n",
    "def aa(gs):\n",
    "    y_pred=gs.predict(X_test)\n",
    "    print('Accuracy Score',accuracy_score(y_test, y_pred)) #(TP+TN)/(TP+TN+FN+FP)\n",
    "    print(classification_report(y_test, y_pred))\n",
    "    cm = confusion_matrix(y_test, y_pred)\n",
    "    tn, fp, fn, tp = confusion_matrix(y_test, y_pred).ravel()\n",
    "    #print('tn',tn)\n",
    "    #print('fp',fp)\n",
    "    #print('fn',fn)\n",
    "    #print('tp',tp)\n",
    "    spec = tn / (tn + fp)\n",
    "    print('spec',spec)\n",
    "    sens = tp / (tp + fn) #recall\n",
    "    print('sens',sens)\n",
    "    return pd.DataFrame(cm, columns=['Predicted ' + str(i) for i in ['EPL','NBA']],\\\n",
    "            index=['Actual ' + str(i) for i in ['EPL','NBA']])"
   ]
  },
  {
   "cell_type": "markdown",
   "metadata": {},
   "source": [
    "**Logistic Regression with Count Vectorizer**"
   ]
  },
  {
   "cell_type": "code",
   "execution_count": 45,
   "metadata": {
    "scrolled": true
   },
   "outputs": [
    {
     "name": "stdout",
     "output_type": "stream",
     "text": [
      "Accuracy Score 0.9586206896551724\n",
      "              precision    recall  f1-score   support\n",
      "\n",
      "           0       0.94      0.99      0.96       158\n",
      "           1       0.98      0.92      0.95       132\n",
      "\n",
      "    accuracy                           0.96       290\n",
      "   macro avg       0.96      0.96      0.96       290\n",
      "weighted avg       0.96      0.96      0.96       290\n",
      "\n",
      "spec 0.9873417721518988\n",
      "sens 0.9242424242424242\n"
     ]
    },
    {
     "data": {
      "text/html": [
       "<div>\n",
       "<style scoped>\n",
       "    .dataframe tbody tr th:only-of-type {\n",
       "        vertical-align: middle;\n",
       "    }\n",
       "\n",
       "    .dataframe tbody tr th {\n",
       "        vertical-align: top;\n",
       "    }\n",
       "\n",
       "    .dataframe thead th {\n",
       "        text-align: right;\n",
       "    }\n",
       "</style>\n",
       "<table border=\"1\" class=\"dataframe\">\n",
       "  <thead>\n",
       "    <tr style=\"text-align: right;\">\n",
       "      <th></th>\n",
       "      <th>Predicted EPL</th>\n",
       "      <th>Predicted NBA</th>\n",
       "    </tr>\n",
       "  </thead>\n",
       "  <tbody>\n",
       "    <tr>\n",
       "      <th>Actual EPL</th>\n",
       "      <td>156</td>\n",
       "      <td>2</td>\n",
       "    </tr>\n",
       "    <tr>\n",
       "      <th>Actual NBA</th>\n",
       "      <td>10</td>\n",
       "      <td>122</td>\n",
       "    </tr>\n",
       "  </tbody>\n",
       "</table>\n",
       "</div>"
      ],
      "text/plain": [
       "            Predicted EPL  Predicted NBA\n",
       "Actual EPL            156              2\n",
       "Actual NBA             10            122"
      ]
     },
     "execution_count": 45,
     "metadata": {},
     "output_type": "execute_result"
    }
   ],
   "source": [
    "#calculate accuracy, classification report, confusion matrix for logistic regression with count vectorizer\n",
    "aa(gs_lrcv)"
   ]
  },
  {
   "cell_type": "markdown",
   "metadata": {},
   "source": [
    "**Logistic Regression with TD-IDF Vectorizer**"
   ]
  },
  {
   "cell_type": "code",
   "execution_count": 46,
   "metadata": {
    "scrolled": false
   },
   "outputs": [
    {
     "name": "stdout",
     "output_type": "stream",
     "text": [
      "Accuracy Score 0.9655172413793104\n",
      "              precision    recall  f1-score   support\n",
      "\n",
      "           0       0.96      0.98      0.97       158\n",
      "           1       0.98      0.95      0.96       132\n",
      "\n",
      "    accuracy                           0.97       290\n",
      "   macro avg       0.97      0.96      0.97       290\n",
      "weighted avg       0.97      0.97      0.97       290\n",
      "\n",
      "spec 0.9810126582278481\n",
      "sens 0.946969696969697\n"
     ]
    },
    {
     "data": {
      "text/html": [
       "<div>\n",
       "<style scoped>\n",
       "    .dataframe tbody tr th:only-of-type {\n",
       "        vertical-align: middle;\n",
       "    }\n",
       "\n",
       "    .dataframe tbody tr th {\n",
       "        vertical-align: top;\n",
       "    }\n",
       "\n",
       "    .dataframe thead th {\n",
       "        text-align: right;\n",
       "    }\n",
       "</style>\n",
       "<table border=\"1\" class=\"dataframe\">\n",
       "  <thead>\n",
       "    <tr style=\"text-align: right;\">\n",
       "      <th></th>\n",
       "      <th>Predicted EPL</th>\n",
       "      <th>Predicted NBA</th>\n",
       "    </tr>\n",
       "  </thead>\n",
       "  <tbody>\n",
       "    <tr>\n",
       "      <th>Actual EPL</th>\n",
       "      <td>155</td>\n",
       "      <td>3</td>\n",
       "    </tr>\n",
       "    <tr>\n",
       "      <th>Actual NBA</th>\n",
       "      <td>7</td>\n",
       "      <td>125</td>\n",
       "    </tr>\n",
       "  </tbody>\n",
       "</table>\n",
       "</div>"
      ],
      "text/plain": [
       "            Predicted EPL  Predicted NBA\n",
       "Actual EPL            155              3\n",
       "Actual NBA              7            125"
      ]
     },
     "execution_count": 46,
     "metadata": {},
     "output_type": "execute_result"
    }
   ],
   "source": [
    "##calculate accuracy, classification report, confusion matrix for logistic regression with TD-IDF vectorizer\n",
    "aa(gs_lrtv)"
   ]
  },
  {
   "cell_type": "markdown",
   "metadata": {},
   "source": [
    "**Multinomial with Count Vectorizer**"
   ]
  },
  {
   "cell_type": "code",
   "execution_count": 47,
   "metadata": {
    "scrolled": true
   },
   "outputs": [
    {
     "name": "stdout",
     "output_type": "stream",
     "text": [
      "Accuracy Score 0.9758620689655172\n",
      "              precision    recall  f1-score   support\n",
      "\n",
      "           0       0.98      0.97      0.98       158\n",
      "           1       0.97      0.98      0.97       132\n",
      "\n",
      "    accuracy                           0.98       290\n",
      "   macro avg       0.98      0.98      0.98       290\n",
      "weighted avg       0.98      0.98      0.98       290\n",
      "\n",
      "spec 0.9746835443037974\n",
      "sens 0.9772727272727273\n"
     ]
    },
    {
     "data": {
      "text/html": [
       "<div>\n",
       "<style scoped>\n",
       "    .dataframe tbody tr th:only-of-type {\n",
       "        vertical-align: middle;\n",
       "    }\n",
       "\n",
       "    .dataframe tbody tr th {\n",
       "        vertical-align: top;\n",
       "    }\n",
       "\n",
       "    .dataframe thead th {\n",
       "        text-align: right;\n",
       "    }\n",
       "</style>\n",
       "<table border=\"1\" class=\"dataframe\">\n",
       "  <thead>\n",
       "    <tr style=\"text-align: right;\">\n",
       "      <th></th>\n",
       "      <th>Predicted EPL</th>\n",
       "      <th>Predicted NBA</th>\n",
       "    </tr>\n",
       "  </thead>\n",
       "  <tbody>\n",
       "    <tr>\n",
       "      <th>Actual EPL</th>\n",
       "      <td>154</td>\n",
       "      <td>4</td>\n",
       "    </tr>\n",
       "    <tr>\n",
       "      <th>Actual NBA</th>\n",
       "      <td>3</td>\n",
       "      <td>129</td>\n",
       "    </tr>\n",
       "  </tbody>\n",
       "</table>\n",
       "</div>"
      ],
      "text/plain": [
       "            Predicted EPL  Predicted NBA\n",
       "Actual EPL            154              4\n",
       "Actual NBA              3            129"
      ]
     },
     "execution_count": 47,
     "metadata": {},
     "output_type": "execute_result"
    }
   ],
   "source": [
    "#calculate accuracy, classification report, confusion matrix for Multinomial with count vectorizer\n",
    "aa(gs_cvnb)"
   ]
  },
  {
   "cell_type": "markdown",
   "metadata": {},
   "source": [
    "**Multinomial with TD-IDF Vectorizer**"
   ]
  },
  {
   "cell_type": "code",
   "execution_count": 48,
   "metadata": {},
   "outputs": [
    {
     "name": "stdout",
     "output_type": "stream",
     "text": [
      "Accuracy Score 0.9724137931034482\n",
      "              precision    recall  f1-score   support\n",
      "\n",
      "           0       0.99      0.96      0.97       158\n",
      "           1       0.96      0.98      0.97       132\n",
      "\n",
      "    accuracy                           0.97       290\n",
      "   macro avg       0.97      0.97      0.97       290\n",
      "weighted avg       0.97      0.97      0.97       290\n",
      "\n",
      "spec 0.9620253164556962\n",
      "sens 0.9848484848484849\n"
     ]
    },
    {
     "data": {
      "text/html": [
       "<div>\n",
       "<style scoped>\n",
       "    .dataframe tbody tr th:only-of-type {\n",
       "        vertical-align: middle;\n",
       "    }\n",
       "\n",
       "    .dataframe tbody tr th {\n",
       "        vertical-align: top;\n",
       "    }\n",
       "\n",
       "    .dataframe thead th {\n",
       "        text-align: right;\n",
       "    }\n",
       "</style>\n",
       "<table border=\"1\" class=\"dataframe\">\n",
       "  <thead>\n",
       "    <tr style=\"text-align: right;\">\n",
       "      <th></th>\n",
       "      <th>Predicted EPL</th>\n",
       "      <th>Predicted NBA</th>\n",
       "    </tr>\n",
       "  </thead>\n",
       "  <tbody>\n",
       "    <tr>\n",
       "      <th>Actual EPL</th>\n",
       "      <td>152</td>\n",
       "      <td>6</td>\n",
       "    </tr>\n",
       "    <tr>\n",
       "      <th>Actual NBA</th>\n",
       "      <td>2</td>\n",
       "      <td>130</td>\n",
       "    </tr>\n",
       "  </tbody>\n",
       "</table>\n",
       "</div>"
      ],
      "text/plain": [
       "            Predicted EPL  Predicted NBA\n",
       "Actual EPL            152              6\n",
       "Actual NBA              2            130"
      ]
     },
     "execution_count": 48,
     "metadata": {},
     "output_type": "execute_result"
    }
   ],
   "source": [
    "#calculate accuracy, classification report, confusion matrix for Multinomial with TD-IDF vectorizer\n",
    "aa(gs_tdnb)"
   ]
  },
  {
   "cell_type": "markdown",
   "metadata": {},
   "source": [
    "Plotting and inspecting ROC Curve & AUC for the different models to check for significant variations from conclusions made above.<br>\n",
    "        1) It represents the degree or measure of separability of the model into the 2 classes and is an important \n",
    "metric in classification problems. <br>\n",
    "        2) Higher the AUC, the better the model is at distinguishing between the 2 subreddits in this case."
   ]
  },
  {
   "cell_type": "markdown",
   "metadata": {},
   "source": [
    "**The AUC score for the selected model is also the highest in comparison to the rest of the models.**"
   ]
  },
  {
   "cell_type": "code",
   "execution_count": 49,
   "metadata": {},
   "outputs": [],
   "source": [
    "def ROC(gs,model):\n",
    "    pred_proba = [i[1] for i in gs.predict_proba(X_test)]\n",
    "\n",
    "    pred_df = pd.DataFrame({'true_values': y_test,\n",
    "                        'pred_probs':pred_proba})\n",
    "    # Create figure.\n",
    "    plt.figure(figsize = (7,5))\n",
    "\n",
    "    # Create threshold values. (Dashed red line in image.)\n",
    "    thresholds = np.linspace(0, 1, 200)\n",
    "\n",
    "    # Define function to calculate sensitivity. (True positive rate.)\n",
    "    def TPR(df, true_col, pred_prob_col, threshold):\n",
    "        true_positive = df[(df[true_col] == 1) & (df[pred_prob_col] >= threshold)].shape[0]\n",
    "        false_negative = df[(df[true_col] == 1) & (df[pred_prob_col] < threshold)].shape[0]\n",
    "        return true_positive / (true_positive + false_negative)\n",
    "    \n",
    "\n",
    "    # Define function to calculate 1 - specificity. (False positive rate.)\n",
    "    def FPR(df, true_col, pred_prob_col, threshold):\n",
    "        true_negative = df[(df[true_col] == 0) & (df[pred_prob_col] <= threshold)].shape[0]\n",
    "        false_positive = df[(df[true_col] == 0) & (df[pred_prob_col] > threshold)].shape[0]\n",
    "        return 1 - (true_negative / (true_negative + false_positive))\n",
    "    \n",
    "    # Calculate sensitivity & 1-specificity for each threshold between 0 and 1.\n",
    "    tpr_values = [TPR(pred_df, 'true_values', 'pred_probs', prob) for prob in thresholds]\n",
    "    fpr_values = [FPR(pred_df, 'true_values', 'pred_probs', prob) for prob in thresholds]\n",
    "    \n",
    "    # Plot ROC curve.\n",
    "    plt.plot(fpr_values, # False Positive Rate on X-axis\n",
    "             tpr_values, # True Positive Rate on Y-axis\n",
    "             label='ROC Curve')\n",
    "\n",
    "    # Plot baseline. (Perfect overlap between the two populations.)\n",
    "    plt.plot(np.linspace(0, 1, 200),\n",
    "             np.linspace(0, 1, 200),\n",
    "             label='baseline',\n",
    "             linestyle='--')\n",
    "\n",
    "    # Label axes.\n",
    "    plt.title(f\"ROC Curve with AUC = {round(roc_auc_score(pred_df['true_values'], pred_df['pred_probs']),3)} for {model}\", fontsize=17)\n",
    "    plt.ylabel('Sensitivity', fontsize=15)\n",
    "    plt.xlabel('1 - Specificity', fontsize=15)\n",
    "\n",
    "    # Create legend.\n",
    "    plt.legend(fontsize=14);"
   ]
  },
  {
   "cell_type": "code",
   "execution_count": 50,
   "metadata": {
    "scrolled": true
   },
   "outputs": [
    {
     "data": {
      "image/png": "[encoded data removed]",
      "text/plain": [
       "<Figure size 504x360 with 1 Axes>"
      ]
     },
     "metadata": {
      "image/png": {
       "height": 340,
       "width": 471
      },
      "needs_background": "light"
     },
     "output_type": "display_data"
    }
   ],
   "source": [
    "#ROC for Logistics with CVEC\n",
    "ROC(gs_lrcv,'Logistic with CVEC')"
   ]
  },
  {
   "cell_type": "code",
   "execution_count": 51,
   "metadata": {
    "scrolled": true
   },
   "outputs": [
    {
     "data": {
      "image/png": "[encoded data removed]",
      "text/plain": [
       "<Figure size 504x360 with 1 Axes>"
      ]
     },
     "metadata": {
      "image/png": {
       "height": 340,
       "width": 481
      },
      "needs_background": "light"
     },
     "output_type": "display_data"
    }
   ],
   "source": [
    "#ROC for Logistic with TD-IDF\n",
    "ROC(gs_lrtv,'Logistics with TD-IDF')"
   ]
  },
  {
   "cell_type": "code",
   "execution_count": 52,
   "metadata": {
    "scrolled": true
   },
   "outputs": [
    {
     "data": {
      "image/png": "[encoded data removed]",
      "text/plain": [
       "<Figure size 504x360 with 1 Axes>"
      ]
     },
     "metadata": {
      "image/png": {
       "height": 340,
       "width": 495
      },
      "needs_background": "light"
     },
     "output_type": "display_data"
    }
   ],
   "source": [
    "#ROC for Naive Bayes with CVEC\n",
    "ROC(gs_cvnb,'Naive Bayes with CVEC')"
   ]
  },
  {
   "cell_type": "code",
   "execution_count": 53,
   "metadata": {},
   "outputs": [
    {
     "data": {
      "image/png": "[encoded data removed]",
      "text/plain": [
       "<Figure size 504x360 with 1 Axes>"
      ]
     },
     "metadata": {
      "image/png": {
       "height": 340,
       "width": 507
      },
      "needs_background": "light"
     },
     "output_type": "display_data"
    }
   ],
   "source": [
    "#ROC for Naive Bayes with TD-IDF\n",
    "ROC(gs_tdnb,'Naive Bayes with TD-IDF')"
   ]
  },
  {
   "cell_type": "markdown",
   "metadata": {},
   "source": [
    "#### Data Analysis post modelling\n",
    "    1) Identifying words that appears in the corpus most number of times.\n",
    "    2) Examine the coefficients of features/ words to determine predictive words per subreddit. "
   ]
  },
  {
   "cell_type": "code",
   "execution_count": 54,
   "metadata": {},
   "outputs": [
    {
     "data": {
      "text/plain": [
       "(1160, 2500)"
      ]
     },
     "execution_count": 54,
     "metadata": {},
     "output_type": "execute_result"
    }
   ],
   "source": [
    "tvecn_optim = TfidfVectorizer(stop_words = 'english', max_df = 0.25, max_features = 2500, min_df = 2)\n",
    "X_train_tvecn_optim = tvecn_optim.fit_transform(X_train).todense()\n",
    "X_train_tvecn_optim_df = pd.DataFrame(X_train_tvecn_optim, columns = tvecn_optim.get_feature_names())\n",
    "X_train_tvecn_optim.shape"
   ]
  },
  {
   "cell_type": "code",
   "execution_count": 55,
   "metadata": {},
   "outputs": [
    {
     "data": {
      "text/html": [
       "<div>\n",
       "<style scoped>\n",
       "    .dataframe tbody tr th:only-of-type {\n",
       "        vertical-align: middle;\n",
       "    }\n",
       "\n",
       "    .dataframe tbody tr th {\n",
       "        vertical-align: top;\n",
       "    }\n",
       "\n",
       "    .dataframe thead th {\n",
       "        text-align: right;\n",
       "    }\n",
       "</style>\n",
       "<table border=\"1\" class=\"dataframe\">\n",
       "  <thead>\n",
       "    <tr style=\"text-align: right;\">\n",
       "      <th></th>\n",
       "      <th>Total</th>\n",
       "    </tr>\n",
       "  </thead>\n",
       "  <tbody>\n",
       "    <tr>\n",
       "      <th>league</th>\n",
       "      <td>33.902243</td>\n",
       "    </tr>\n",
       "    <tr>\n",
       "      <th>season</th>\n",
       "      <td>30.382712</td>\n",
       "    </tr>\n",
       "    <tr>\n",
       "      <th>poll</th>\n",
       "      <td>28.946216</td>\n",
       "    </tr>\n",
       "    <tr>\n",
       "      <th>team</th>\n",
       "      <td>27.507744</td>\n",
       "    </tr>\n",
       "    <tr>\n",
       "      <th>harden</th>\n",
       "      <td>26.636793</td>\n",
       "    </tr>\n",
       "    <tr>\n",
       "      <th>game</th>\n",
       "      <td>24.066097</td>\n",
       "    </tr>\n",
       "    <tr>\n",
       "      <th>players</th>\n",
       "      <td>23.736635</td>\n",
       "    </tr>\n",
       "    <tr>\n",
       "      <th>nba</th>\n",
       "      <td>23.720220</td>\n",
       "    </tr>\n",
       "    <tr>\n",
       "      <th>think</th>\n",
       "      <td>22.547024</td>\n",
       "    </tr>\n",
       "    <tr>\n",
       "      <th>premier</th>\n",
       "      <td>22.072307</td>\n",
       "    </tr>\n",
       "    <tr>\n",
       "      <th>kyrie</th>\n",
       "      <td>19.927352</td>\n",
       "    </tr>\n",
       "    <tr>\n",
       "      <th>games</th>\n",
       "      <td>19.922952</td>\n",
       "    </tr>\n",
       "    <tr>\n",
       "      <th>like</th>\n",
       "      <td>19.563853</td>\n",
       "    </tr>\n",
       "    <tr>\n",
       "      <th>united</th>\n",
       "      <td>19.243414</td>\n",
       "    </tr>\n",
       "    <tr>\n",
       "      <th>best</th>\n",
       "      <td>18.882703</td>\n",
       "    </tr>\n",
       "    <tr>\n",
       "      <th>player</th>\n",
       "      <td>18.101029</td>\n",
       "    </tr>\n",
       "    <tr>\n",
       "      <th>nets</th>\n",
       "      <td>17.762834</td>\n",
       "    </tr>\n",
       "    <tr>\n",
       "      <th>arsenal</th>\n",
       "      <td>16.481702</td>\n",
       "    </tr>\n",
       "    <tr>\n",
       "      <th>reddit</th>\n",
       "      <td>16.428806</td>\n",
       "    </tr>\n",
       "    <tr>\n",
       "      <th>highlight</th>\n",
       "      <td>16.390127</td>\n",
       "    </tr>\n",
       "  </tbody>\n",
       "</table>\n",
       "</div>"
      ],
      "text/plain": [
       "               Total\n",
       "league     33.902243\n",
       "season     30.382712\n",
       "poll       28.946216\n",
       "team       27.507744\n",
       "harden     26.636793\n",
       "game       24.066097\n",
       "players    23.736635\n",
       "nba        23.720220\n",
       "think      22.547024\n",
       "premier    22.072307\n",
       "kyrie      19.927352\n",
       "games      19.922952\n",
       "like       19.563853\n",
       "united     19.243414\n",
       "best       18.882703\n",
       "player     18.101029\n",
       "nets       17.762834\n",
       "arsenal    16.481702\n",
       "reddit     16.428806\n",
       "highlight  16.390127"
      ]
     },
     "execution_count": 55,
     "metadata": {},
     "output_type": "execute_result"
    }
   ],
   "source": [
    "# find out how many times each word appear in the corpus by creating a 'Total' row at the end of the dataframe:\n",
    "X_train_tvecn_optim_df.loc['Total',:]= X_train_tvecn_optim_df.sum(axis=0)\n",
    "X_train_tvecn_optim_df.loc['Total',:].sort_values(ascending=False)\n",
    "Xtrain_total_tvecn_optim = pd.DataFrame(X_train_tvecn_optim_df.loc['Total',:].sort_values(ascending=False))\n",
    "df=Xtrain_total_tvecn_optim.head(20)\n",
    "df"
   ]
  },
  {
   "cell_type": "code",
   "execution_count": 56,
   "metadata": {},
   "outputs": [
    {
     "data": {
      "text/plain": [
       "20"
      ]
     },
     "execution_count": 56,
     "metadata": {},
     "output_type": "execute_result"
    }
   ],
   "source": [
    "# check for number of words with frequency\n",
    "df = df[df['Total'] > 15]\n",
    "len(df)"
   ]
  },
  {
   "cell_type": "code",
   "execution_count": 57,
   "metadata": {},
   "outputs": [
    {
     "data": {
      "image/png": "[encoded data removed]",
      "text/plain": [
       "<Figure size 1152x432 with 1 Axes>"
      ]
     },
     "metadata": {
      "image/png": {
       "height": 400,
       "width": 940
      },
      "needs_background": "light"
     },
     "output_type": "display_data"
    }
   ],
   "source": [
    "# plot word frequency chart\n",
    "fig_dims = (16, 6)\n",
    "fig, ax = plt.subplots(figsize=fig_dims)\n",
    "fig.suptitle('Word Frequency', fontsize = 16, weight = 'bold')\n",
    "\n",
    "sns.barplot(x = df.index, y = df['Total']);"
   ]
  },
  {
   "cell_type": "markdown",
   "metadata": {},
   "source": [
    "####  Checking the coefficient values of words"
   ]
  },
  {
   "cell_type": "code",
   "execution_count": 58,
   "metadata": {
    "scrolled": true
   },
   "outputs": [],
   "source": [
    "#getting the coefficient values\n",
    "coefs=pd.DataFrame(gs_lrcv.best_estimator_.steps[1][1].coef_).T\n",
    "coefs.columns = ['coef']\n",
    "# getting the words/ feature names\n",
    "coefs['words']=gs_lrcv.best_estimator_.steps[0][1].get_feature_names()\n"
   ]
  },
  {
   "cell_type": "code",
   "execution_count": 59,
   "metadata": {},
   "outputs": [],
   "source": [
    "#Getting top 10 positive correlated words\n",
    "coef1=coefs.sort_values(by='coef',ascending=False).head(10)"
   ]
  },
  {
   "cell_type": "code",
   "execution_count": 60,
   "metadata": {},
   "outputs": [],
   "source": [
    "#Getting top 10 negatively correlated words\n",
    "coef2=coefs.sort_values(by='coef',ascending=False).tail(10)"
   ]
  },
  {
   "cell_type": "code",
   "execution_count": 61,
   "metadata": {},
   "outputs": [
    {
     "data": {
      "text/html": [
       "<div>\n",
       "<style scoped>\n",
       "    .dataframe tbody tr th:only-of-type {\n",
       "        vertical-align: middle;\n",
       "    }\n",
       "\n",
       "    .dataframe tbody tr th {\n",
       "        vertical-align: top;\n",
       "    }\n",
       "\n",
       "    .dataframe thead th {\n",
       "        text-align: right;\n",
       "    }\n",
       "</style>\n",
       "<table border=\"1\" class=\"dataframe\">\n",
       "  <thead>\n",
       "    <tr style=\"text-align: right;\">\n",
       "      <th></th>\n",
       "      <th>coef</th>\n",
       "    </tr>\n",
       "    <tr>\n",
       "      <th>words</th>\n",
       "      <th></th>\n",
       "    </tr>\n",
       "  </thead>\n",
       "  <tbody>\n",
       "    <tr>\n",
       "      <th>highlight</th>\n",
       "      <td>3.318675</td>\n",
       "    </tr>\n",
       "    <tr>\n",
       "      <th>nba</th>\n",
       "      <td>2.412852</td>\n",
       "    </tr>\n",
       "    <tr>\n",
       "      <th>harden</th>\n",
       "      <td>1.931181</td>\n",
       "    </tr>\n",
       "    <tr>\n",
       "      <th>kyrie</th>\n",
       "      <td>1.659613</td>\n",
       "    </tr>\n",
       "    <tr>\n",
       "      <th>wizards</th>\n",
       "      <td>1.631211</td>\n",
       "    </tr>\n",
       "    <tr>\n",
       "      <th>sources</th>\n",
       "      <td>1.503483</td>\n",
       "    </tr>\n",
       "    <tr>\n",
       "      <th>basketball</th>\n",
       "      <td>1.331456</td>\n",
       "    </tr>\n",
       "    <tr>\n",
       "      <th>nets</th>\n",
       "      <td>1.325684</td>\n",
       "    </tr>\n",
       "    <tr>\n",
       "      <th>trade</th>\n",
       "      <td>1.300404</td>\n",
       "    </tr>\n",
       "    <tr>\n",
       "      <th>rockets</th>\n",
       "      <td>1.284396</td>\n",
       "    </tr>\n",
       "    <tr>\n",
       "      <th>pl</th>\n",
       "      <td>-0.958814</td>\n",
       "    </tr>\n",
       "    <tr>\n",
       "      <th>chelsea</th>\n",
       "      <td>-0.983314</td>\n",
       "    </tr>\n",
       "    <tr>\n",
       "      <th>poll</th>\n",
       "      <td>-1.089814</td>\n",
       "    </tr>\n",
       "    <tr>\n",
       "      <th>football</th>\n",
       "      <td>-1.104381</td>\n",
       "    </tr>\n",
       "    <tr>\n",
       "      <th>man</th>\n",
       "      <td>-1.146675</td>\n",
       "    </tr>\n",
       "    <tr>\n",
       "      <th>club</th>\n",
       "      <td>-1.167825</td>\n",
       "    </tr>\n",
       "    <tr>\n",
       "      <th>united</th>\n",
       "      <td>-1.466600</td>\n",
       "    </tr>\n",
       "    <tr>\n",
       "      <th>arsenal</th>\n",
       "      <td>-1.496154</td>\n",
       "    </tr>\n",
       "    <tr>\n",
       "      <th>liverpool</th>\n",
       "      <td>-1.554565</td>\n",
       "    </tr>\n",
       "    <tr>\n",
       "      <th>premier</th>\n",
       "      <td>-1.885023</td>\n",
       "    </tr>\n",
       "  </tbody>\n",
       "</table>\n",
       "</div>"
      ],
      "text/plain": [
       "                coef\n",
       "words               \n",
       "highlight   3.318675\n",
       "nba         2.412852\n",
       "harden      1.931181\n",
       "kyrie       1.659613\n",
       "wizards     1.631211\n",
       "sources     1.503483\n",
       "basketball  1.331456\n",
       "nets        1.325684\n",
       "trade       1.300404\n",
       "rockets     1.284396\n",
       "pl         -0.958814\n",
       "chelsea    -0.983314\n",
       "poll       -1.089814\n",
       "football   -1.104381\n",
       "man        -1.146675\n",
       "club       -1.167825\n",
       "united     -1.466600\n",
       "arsenal    -1.496154\n",
       "liverpool  -1.554565\n",
       "premier    -1.885023"
      ]
     },
     "execution_count": 61,
     "metadata": {},
     "output_type": "execute_result"
    }
   ],
   "source": [
    "#Combining top positively and negatively correlated words\n",
    "coef3=pd.concat([coef1, coef2], axis=0)\n",
    "coef3.set_index('words',inplace=True)\n",
    "coef3"
   ]
  },
  {
   "cell_type": "code",
   "execution_count": 62,
   "metadata": {},
   "outputs": [
    {
     "data": {
      "image/png": "[encoded data removed]",
      "text/plain": [
       "<Figure size 576x432 with 1 Axes>"
      ]
     },
     "metadata": {
      "image/png": {
       "height": 376,
       "width": 537
      },
      "needs_background": "light"
     },
     "output_type": "display_data"
    }
   ],
   "source": [
    "#Plotting the coeff\n",
    "coef3.plot(kind='barh')\n",
    "plt.ylabel('Features', size = 14)\n",
    "plt.gcf().set_size_inches(8, 6)\n",
    "#ax.tick_params(axis = 'y', labelsize = 13)\n",
    "plt.title(\"Words\", size = 18,weight = 'bold')\n",
    "plt.show()"
   ]
  },
  {
   "cell_type": "markdown",
   "metadata": {},
   "source": [
    "### Conclusions\n",
    "1) The first thing we can do is to look at the regression coefficients for every word, sorted \n",
    "negative to positive. <br>\n",
    "2) In this model, we have assigned 'Premier League' comments to class 0 and NBA comments to class 1. So \n",
    "the words with the strongest positive coefficients in our model are the words that are \n",
    "most predictive of NBA (they push the outcome towards 1 the most). <br>\n",
    "3) And the words with the strongest negative coefficients are the most predictive of \n",
    "Premier League (they push the outcome toward 0). <br>\n",
    "4) Moreover, the words with the most influential coefficients either positive or negative don't just \n",
    "represent the words that are most likely to appear in posts within a given subreddit. <br>\n",
    "5) They are also unlikely to appear in posts of the other subreddit. In short, the model is looking for words that are highly frequent in one subreddit relative to the other.<br>\n",
    "6) These predictive words can be potentially employed in targeted marketing campaigns to improve the \n",
    "“click- rate” of a particular ad to the target subreddit member. <br>\n",
    "7)Business should get data directly from Reddit using API or RESTful API which is\n",
    "significantly faster than scraping (limit on posts).<br>\n",
    "8)Business may want to spend more advertising dollars on the NBA group as higher chance to convert 3.8m users to customers; more bang for the buck"
   ]
  },
  {
   "cell_type": "markdown",
   "metadata": {},
   "source": [
    "### Limitations and Recommendations\n",
    "1) The analysis and modeling is based on ~1000 posts per subreddit which may not be a good representation of \n",
    "the subreddit itself.<br>\n",
    "2) Comments were not scraped or included in modeling. <br>\n",
    "3) The hyper-parameters of the model has been tuned to include features/ words as many as 2500 to reduce \n",
    "the variance between testing and training scores<br>\n",
    "4) But in reality, it may make sense to reduce the number of words<br>\n",
    "5) The model can be further enhanced :\n",
    "    - To eliminate synonyms, post agnostic words, common words\n",
    "    - To include phrases instead of just words for prediction.\n",
    "    - To include comments as part of post for analysis and modeling<br>\n",
    "6) The dataset of that the model is trained is likely not representative of the content of the subreddit in the long run. This is because a subreddit like Premier League and NBA changes with current events. As such, there needs to be a way for the model to recognize the type of content in the subreddit apart from individual words."
   ]
  },
  {
   "cell_type": "code",
   "execution_count": null,
   "metadata": {},
   "outputs": [],
   "source": []
  }
 ],
 "metadata": {
  "kernelspec": {
   "display_name": "Python 3",
   "language": "python",
   "name": "python3"
  },
  "language_info": {
   "codemirror_mode": {
    "name": "ipython",
    "version": 3
   },
   "file_extension": ".py",
   "mimetype": "text/x-python",
   "name": "python",
   "nbconvert_exporter": "python",
   "pygments_lexer": "ipython3",
   "version": "3.8.3"
  }
 },
 "nbformat": 4,
 "nbformat_minor": 4
}
